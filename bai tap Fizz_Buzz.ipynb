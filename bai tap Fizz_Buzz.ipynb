{
 "cells": [
  {
   "cell_type": "code",
   "execution_count": null,
   "id": "bcb67c06",
   "metadata": {},
   "outputs": [],
   "source": [
    "m=int(input(\"nhap mot so bat ky m: \"))\n",
    "n=int(input(\"nhap mot so bât ky n: \"))\n",
    "if m>n:\n",
    "    print ('so ket thuc can lon hon so bat dau')\n",
    "else:\n",
    "    for i in range (m, n+1):\n",
    "        if i%3==0 and i%5==0:\n",
    "           print (\"FizzBuzz\")\n",
    "        elif i%5==0:\n",
    "           print('Buzz')\n",
    "        elif i%3==0:\n",
    "           print (\"Fizz\")\n",
    "        else: \n",
    "           print (i)"
   ]
  }
 ],
 "metadata": {
  "kernelspec": {
   "display_name": "Python 3 (ipykernel)",
   "language": "python",
   "name": "python3"
  },
  "language_info": {
   "codemirror_mode": {
    "name": "ipython",
    "version": 3
   },
   "file_extension": ".py",
   "mimetype": "text/x-python",
   "name": "python",
   "nbconvert_exporter": "python",
   "pygments_lexer": "ipython3",
   "version": "3.9.12"
  }
 },
 "nbformat": 4,
 "nbformat_minor": 5
}
